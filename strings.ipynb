{
 "cells": [
  {
   "cell_type": "markdown",
   "id": "369af8d8-d881-4b2a-8ab8-7d0256d7d358",
   "metadata": {},
   "source": [
    "# Strings"
   ]
  },
  {
   "cell_type": "markdown",
   "id": "7845c5c4",
   "metadata": {},
   "source": [
    "## String Manipulation\n",
    "\n",
    "- Strings are ordered, immutable sequences of characters.\n",
    "- Use single or double quotes consistently; triple quotes for multi-line strings or docstrings."
   ]
  },
  {
   "cell_type": "code",
   "execution_count": 7,
   "id": "5071b74a",
   "metadata": {},
   "outputs": [
    {
     "name": "stdout",
     "output_type": "stream",
     "text": [
      "single:single quotes\n",
      "double:double quotes\n",
      "multi:\n",
      "multi quotes\n",
      "\n"
     ]
    }
   ],
   "source": [
    "var_single = 'single quotes'\n",
    "var_double = \"double quotes\"\n",
    "var_multi = \"\"\"\n",
    "multi quotes\n",
    "\"\"\"\n",
    "print(f\"single:{var_single}\\ndouble:{var_double}\\nmulti:{var_multi}\")"
   ]
  },
  {
   "cell_type": "markdown",
   "id": "34371c3e",
   "metadata": {},
   "source": [
    "## Format Output using f-string\n",
    "\n",
    "**Tip:** f-strings allow inline expression evaluation and formatting, making string construction concise and readable."
   ]
  },
  {
   "cell_type": "code",
   "execution_count": null,
   "id": "b1b1007b",
   "metadata": {},
   "outputs": [],
   "source": []
  },
  {
   "cell_type": "markdown",
   "id": "53d76649",
   "metadata": {},
   "source": [
    "### Common Operations and Essential String Methods\n",
    "\n",
    "- Concatenation (`+`): Joins strings.\n",
    "- Length (`len()`): Gets the number of characters.\n",
    "- Indexing (`[]`): Access a character by position (0-based).\n",
    "- Slicing (`[:]`): Extract substrings.\n",
    "- `.lower() / .upper()`\n",
    "- `.strip() / .lstrip() / .rstrip()`\n",
    "- `.startswith() / .endswith()`\n",
    "- `.split() / .join()`\n",
    "- `.replace()`"
   ]
  },
  {
   "cell_type": "code",
   "execution_count": 40,
   "id": "b30131e9",
   "metadata": {
    "scrolled": true
   },
   "outputs": [
    {
     "name": "stdout",
     "output_type": "stream",
     "text": [
      "merge:ab\n",
      "\"file.yaml\" starstwith file?True\n",
      "\"file.yaml\" endswith yaml?True\n",
      "var_con_1:1\n",
      "var_con_merge:2\n",
      "index 1 : b\n",
      "course_title is:    Python for DevOps   \n",
      "Result of .strip():Python for DevOps\n",
      "Result of .lstrip():Python for DevOps   \n",
      "Result of .rstrip():    Python for DevOps\n",
      "Result of .upper():    PYTHON FOR DEVOPS   \n",
      "Result of .lower():    python for devops   \n",
      "path file:/user/local/bin\n",
      "['', 'user', 'local', 'bin']\n",
      "\\user\\local\\bin\n",
      "\\user\\local\\bin\\python\n",
      "index 0-4 [\\use] : \\use\n",
      "index 0-4 [\\use] : \\use\n",
      "index 0-4 [\\local\\bin\\python] : \\local\\bin\\python\n"
     ]
    }
   ],
   "source": [
    "# Concatenation +\n",
    "var_con_1 = \"a\"\n",
    "var_con_2 = \"b\"\n",
    "var_con_merge = var_con_1 + var_con_2\n",
    "print(f\"merge:{var_con_merge}\")\n",
    "\n",
    "# startwith() and endwith()\n",
    "filename = \"file.yaml\"\n",
    "print(f\"\\\"file.yaml\\\" starstwith file?{filename.startswith(\"file\")}\")\n",
    "print(f\"\\\"file.yaml\\\" endswith yaml?{filename.endswith(\"yaml\")}\")\n",
    "\n",
    "# len of the string\n",
    "print(f\"var_con_1:{len(var_con_1)}\")\n",
    "print(f\"var_con_merge:{len(var_con_merge)}\")\n",
    "\n",
    "# indexing [] - start from 0\n",
    "print(f\"index 1 : {var_con_merge[1]}\")\n",
    "\n",
    "# slicing [:]\n",
    "# strip - remove two sides of the words spaces\n",
    "course_title = \"    Python for DevOps   \"\n",
    "print(f\"course_title is:{course_title}\")\n",
    "print(f\"Result of .strip():{course_title.strip()}\")\n",
    "print(f\"Result of .lstrip():{course_title.lstrip()}\")\n",
    "print(f\"Result of .rstrip():{course_title.rstrip()}\")\n",
    "print(f\"Result of .upper():{course_title.upper()}\")\n",
    "print(f\"Result of .lower():{course_title.lower()}\")\n",
    "\n",
    "# split\n",
    "path_file = \"/user/local/bin\"\n",
    "print(f\"path file:{path_file}\")\n",
    "path_split = path_file.split(\"/\")\n",
    "print(f\"{path_split}\")\n",
    "path_join = \"\\\\\".join(path_split)\n",
    "print(f\"{path_join}\")\n",
    "path_join = path_join + \"\\\\python\"\n",
    "print(f\"{path_join}\")\n",
    "print(f\"index 0-4 [\\\\use] : {path_join[0:4]}\")\n",
    "print(f\"index 0-4 [\\\\use] : {path_join[:4]}\")\n",
    "print(f\"index 0-4 [\\\\local\\\\bin\\\\python] : {path_join[5:]}\")"
   ]
  },
  {
   "cell_type": "markdown",
   "id": "bd325a2b-71d3-4434-96c1-4d5c2a426877",
   "metadata": {},
   "source": [
    "### String Immutability\n",
    "\n",
    "Strings are immutable, meaning you cannot change a string in place; operations that seem to modify a string actually create and return a new string object."
   ]
  },
  {
   "cell_type": "code",
   "execution_count": 42,
   "id": "23ea841e",
   "metadata": {},
   "outputs": [
    {
     "name": "stdout",
     "output_type": "stream",
     "text": [
      "course_title is:    Python for DevOps   \n",
      "Result of .strip():Python for DevOps\n",
      "Result of .lstrip():Python for DevOps   \n",
      "Result of .rstrip():    Python for DevOps\n",
      "Result of .upper():    PYTHON FOR DEVOPS   \n",
      "Result of .lower():    python for devops   \n",
      "course_title is:    Python for DevOps   \n"
     ]
    }
   ],
   "source": [
    "course_title = \"    Python for DevOps   \"\n",
    "print(f\"course_title is:{course_title}\")\n",
    "print(f\"Result of .strip():{course_title.strip()}\")\n",
    "print(f\"Result of .lstrip():{course_title.lstrip()}\")\n",
    "print(f\"Result of .rstrip():{course_title.rstrip()}\")\n",
    "print(f\"Result of .upper():{course_title.upper()}\")\n",
    "print(f\"Result of .lower():{course_title.lower()}\")\n",
    "print(f\"course_title is:{course_title}\")"
   ]
  },
  {
   "cell_type": "markdown",
   "id": "c113ccfa-1e07-447e-9312-dda2678bd984",
   "metadata": {},
   "source": [
    "## Exercise: Calculate Disk Usage Percentage\n",
    "\n",
    "In this exercise you’ll combine basic arithmetic with f‑string formatting to report disk usage for a server.\n",
    "\n",
    "Objectives:\n",
    "- Given the variables below, compute the disk usage percentage.\n",
    "- Print the raw percentage value.\n",
    "- Build a human‑readable summary string:\n",
    "  - Convert the server name to uppercase.\n",
    "  - Include the number of CPU cores and amount of RAM.\n",
    "  - Show the disk usage percentage rounded to one decimal place.\n",
    "- Print a summary containing the server name in uppercase, the number of CPU cores, the memory, and the disk usage).\n",
    "- Finally, use the `.2%` format specifier in an f‑string to display the usage with two decimal places and a percent sign.\n"
   ]
  },
  {
   "cell_type": "code",
   "execution_count": null,
   "id": "146c476b",
   "metadata": {},
   "outputs": [
    {
     "name": "stdout",
     "output_type": "stream",
     "text": [
      "Usage disk percentage:50.234%\n",
      "server name upper case:IMPERVA\n",
      "\n",
      "SERVER:IMPERVA\n",
      "CPU:8\n",
      "RAM:16\n",
      "DISK:5023.40%\n",
      "87.34%\n"
     ]
    }
   ],
   "source": [
    "\n",
    "\n",
    "capacity_size = 1000\n",
    "used_size = 502.34\n",
    "usage_size = (used_size / capacity_size) * 100\n",
    "print(f\"Usage disk percentage:{usage_size}%\") \n",
    "\n",
    "# server name on upper case\n",
    "server = \"ImPeRvA\"\n",
    "print(f\"server name upper case:{server.upper()}\")\n",
    "\n",
    "# CPU Cores and amount of ram\n",
    "CPU = \"8\" # cores\n",
    "RAM = \"16\" # Giga\n",
    "\n",
    "# summary\n",
    "print(f\"\\nSERVER:{server.upper()}\")\n",
    "print(f\"CPU:{CPU}\")\n",
    "print(f\"RAM:{RAM}\")\n",
    "print(f\"DISK:{usage_size:.2f}\")\n",
    "\n",
    "# format to round the number , rounded to x decimal place :.xf \n",
    "value = 0.8734\n",
    "print(f\"{value * 100:.2f}%\")"
   ]
  },
  {
   "cell_type": "code",
   "execution_count": null,
   "id": "8a1be08a-a36e-46ef-8398-291103e90086",
   "metadata": {},
   "outputs": [],
   "source": []
  }
 ],
 "metadata": {
  "kernelspec": {
   "display_name": ".venv",
   "language": "python",
   "name": "python3"
  },
  "language_info": {
   "codemirror_mode": {
    "name": "ipython",
    "version": 3
   },
   "file_extension": ".py",
   "mimetype": "text/x-python",
   "name": "python",
   "nbconvert_exporter": "python",
   "pygments_lexer": "ipython3",
   "version": "3.14.0"
  }
 },
 "nbformat": 4,
 "nbformat_minor": 5
}
